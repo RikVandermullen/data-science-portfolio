{
 "cells": [
  {
   "cell_type": "markdown",
   "id": "dd60520f",
   "metadata": {},
   "source": [
    "**Portfolio assignment 8**\n",
    "\n",
    "15 min:\n",
    "\n",
    "- Calculate the 90%, 95%, 99% and 99.99% confidence interval for at least 2 columns with numerical data in the dataset that you chose in portfolio assignment 4. Do you see the impact the confidence has on the interval?\n",
    "- Now calculate the 95% confidence interval again but use only the first 10% of your rows. Compare this interval to the previous 95% confidence interval you calculated. Do you see the impact of having less data?"
   ]
  },
  {
   "cell_type": "code",
   "execution_count": 4,
   "id": "6c1b420e",
   "metadata": {},
   "outputs": [],
   "source": [
    "import pandas as pd\n",
    "import scipy.stats as st"
   ]
  },
  {
   "cell_type": "code",
   "execution_count": 2,
   "id": "13625a64",
   "metadata": {},
   "outputs": [],
   "source": [
    "stockx = pd.read_excel('StockX_Dataset.xlsx')"
   ]
  },
  {
   "cell_type": "code",
   "execution_count": 3,
   "id": "9c613aad",
   "metadata": {},
   "outputs": [
    {
     "data": {
      "text/html": [
       "<div>\n",
       "<style scoped>\n",
       "    .dataframe tbody tr th:only-of-type {\n",
       "        vertical-align: middle;\n",
       "    }\n",
       "\n",
       "    .dataframe tbody tr th {\n",
       "        vertical-align: top;\n",
       "    }\n",
       "\n",
       "    .dataframe thead th {\n",
       "        text-align: right;\n",
       "    }\n",
       "</style>\n",
       "<table border=\"1\" class=\"dataframe\">\n",
       "  <thead>\n",
       "    <tr style=\"text-align: right;\">\n",
       "      <th></th>\n",
       "      <th>Order Date</th>\n",
       "      <th>Brand</th>\n",
       "      <th>Sneaker Name</th>\n",
       "      <th>Sale Price</th>\n",
       "      <th>Retail Price</th>\n",
       "      <th>Release Date</th>\n",
       "      <th>Shoe Size</th>\n",
       "      <th>Buyer Region</th>\n",
       "    </tr>\n",
       "  </thead>\n",
       "  <tbody>\n",
       "    <tr>\n",
       "      <th>0</th>\n",
       "      <td>2017-09-01</td>\n",
       "      <td>Yeezy</td>\n",
       "      <td>Adidas-Yeezy-Boost-350-Low-V2-Beluga</td>\n",
       "      <td>1097.0</td>\n",
       "      <td>220</td>\n",
       "      <td>2016-09-24</td>\n",
       "      <td>11.0</td>\n",
       "      <td>California</td>\n",
       "    </tr>\n",
       "    <tr>\n",
       "      <th>1</th>\n",
       "      <td>2017-09-01</td>\n",
       "      <td>Yeezy</td>\n",
       "      <td>Adidas-Yeezy-Boost-350-V2-Core-Black-Copper</td>\n",
       "      <td>685.0</td>\n",
       "      <td>220</td>\n",
       "      <td>2016-11-23</td>\n",
       "      <td>11.0</td>\n",
       "      <td>California</td>\n",
       "    </tr>\n",
       "    <tr>\n",
       "      <th>2</th>\n",
       "      <td>2017-09-01</td>\n",
       "      <td>Yeezy</td>\n",
       "      <td>Adidas-Yeezy-Boost-350-V2-Core-Black-Green</td>\n",
       "      <td>690.0</td>\n",
       "      <td>220</td>\n",
       "      <td>2016-11-23</td>\n",
       "      <td>11.0</td>\n",
       "      <td>California</td>\n",
       "    </tr>\n",
       "    <tr>\n",
       "      <th>3</th>\n",
       "      <td>2017-09-01</td>\n",
       "      <td>Yeezy</td>\n",
       "      <td>Adidas-Yeezy-Boost-350-V2-Core-Black-Red</td>\n",
       "      <td>1075.0</td>\n",
       "      <td>220</td>\n",
       "      <td>2016-11-23</td>\n",
       "      <td>11.5</td>\n",
       "      <td>Kentucky</td>\n",
       "    </tr>\n",
       "    <tr>\n",
       "      <th>4</th>\n",
       "      <td>2017-09-01</td>\n",
       "      <td>Yeezy</td>\n",
       "      <td>Adidas-Yeezy-Boost-350-V2-Core-Black-Red-2017</td>\n",
       "      <td>828.0</td>\n",
       "      <td>220</td>\n",
       "      <td>2017-02-11</td>\n",
       "      <td>11.0</td>\n",
       "      <td>Rhode Island</td>\n",
       "    </tr>\n",
       "  </tbody>\n",
       "</table>\n",
       "</div>"
      ],
      "text/plain": [
       "  Order Date   Brand                                   Sneaker Name  \\\n",
       "0 2017-09-01   Yeezy           Adidas-Yeezy-Boost-350-Low-V2-Beluga   \n",
       "1 2017-09-01   Yeezy    Adidas-Yeezy-Boost-350-V2-Core-Black-Copper   \n",
       "2 2017-09-01   Yeezy     Adidas-Yeezy-Boost-350-V2-Core-Black-Green   \n",
       "3 2017-09-01   Yeezy       Adidas-Yeezy-Boost-350-V2-Core-Black-Red   \n",
       "4 2017-09-01   Yeezy  Adidas-Yeezy-Boost-350-V2-Core-Black-Red-2017   \n",
       "\n",
       "   Sale Price  Retail Price Release Date  Shoe Size  Buyer Region  \n",
       "0      1097.0           220   2016-09-24       11.0    California  \n",
       "1       685.0           220   2016-11-23       11.0    California  \n",
       "2       690.0           220   2016-11-23       11.0    California  \n",
       "3      1075.0           220   2016-11-23       11.5      Kentucky  \n",
       "4       828.0           220   2017-02-11       11.0  Rhode Island  "
      ]
     },
     "execution_count": 3,
     "metadata": {},
     "output_type": "execute_result"
    }
   ],
   "source": [
    "stockx.head()"
   ]
  },
  {
   "cell_type": "markdown",
   "id": "522cae67",
   "metadata": {},
   "source": [
    "### Sale Price"
   ]
  },
  {
   "cell_type": "code",
   "execution_count": 5,
   "id": "417d1010",
   "metadata": {},
   "outputs": [
    {
     "data": {
      "text/plain": [
       "(445.30295787866123, 447.96655065909533)"
      ]
     },
     "execution_count": 5,
     "metadata": {},
     "output_type": "execute_result"
    }
   ],
   "source": [
    "confidence = 0.90\n",
    "st.t.interval(confidence, len(stockx)-1, loc=stockx['Sale Price'].mean(), scale=st.sem(stockx['Sale Price']))"
   ]
  },
  {
   "cell_type": "code",
   "execution_count": 7,
   "id": "ca97f6bd",
   "metadata": {},
   "outputs": [
    {
     "data": {
      "text/plain": [
       "(445.0478164813223, 448.2216920564343)"
      ]
     },
     "execution_count": 7,
     "metadata": {},
     "output_type": "execute_result"
    }
   ],
   "source": [
    "confidence = 0.95\n",
    "st.t.interval(confidence, len(stockx)-1, loc=stockx['Sale Price'].mean(), scale=st.sem(stockx['Sale Price']))"
   ]
  },
  {
   "cell_type": "code",
   "execution_count": 8,
   "id": "97c00f76",
   "metadata": {},
   "outputs": [
    {
     "data": {
      "text/plain": [
       "(444.5491499167756, 448.72035862098096)"
      ]
     },
     "execution_count": 8,
     "metadata": {},
     "output_type": "execute_result"
    }
   ],
   "source": [
    "confidence = 0.99\n",
    "st.t.interval(confidence, len(stockx)-1, loc=stockx['Sale Price'].mean(), scale=st.sem(stockx['Sale Price']))"
   ]
  },
  {
   "cell_type": "code",
   "execution_count": 9,
   "id": "d7bb9784",
   "metadata": {},
   "outputs": [
    {
     "data": {
      "text/plain": [
       "(443.97044385454535, 449.29906468321127)"
      ]
     },
     "execution_count": 9,
     "metadata": {},
     "output_type": "execute_result"
    }
   ],
   "source": [
    "confidence = 0.999\n",
    "st.t.interval(confidence, len(stockx)-1, loc=stockx['Sale Price'].mean(), scale=st.sem(stockx['Sale Price']))"
   ]
  },
  {
   "cell_type": "markdown",
   "id": "89ba4c40",
   "metadata": {},
   "source": [
    "### Shoe Size"
   ]
  },
  {
   "cell_type": "code",
   "execution_count": 11,
   "id": "7faaafb8",
   "metadata": {},
   "outputs": [
    {
     "data": {
      "text/plain": [
       "(9.332061348454824, 9.35630153121223)"
      ]
     },
     "execution_count": 11,
     "metadata": {},
     "output_type": "execute_result"
    }
   ],
   "source": [
    "confidence = 0.90\n",
    "st.t.interval(confidence, len(stockx)-1, loc=stockx['Shoe Size'].mean(), scale=st.sem(stockx['Shoe Size']))"
   ]
  },
  {
   "cell_type": "code",
   "execution_count": 12,
   "id": "95f22ec5",
   "metadata": {},
   "outputs": [
    {
     "data": {
      "text/plain": [
       "(9.329739419162214, 9.35862346050484)"
      ]
     },
     "execution_count": 12,
     "metadata": {},
     "output_type": "execute_result"
    }
   ],
   "source": [
    "confidence = 0.95\n",
    "st.t.interval(confidence, len(stockx)-1, loc=stockx['Shoe Size'].mean(), scale=st.sem(stockx['Shoe Size']))"
   ]
  },
  {
   "cell_type": "code",
   "execution_count": 13,
   "id": "9140c667",
   "metadata": {},
   "outputs": [
    {
     "data": {
      "text/plain": [
       "(9.32520127476251, 9.363161604904544)"
      ]
     },
     "execution_count": 13,
     "metadata": {},
     "output_type": "execute_result"
    }
   ],
   "source": [
    "confidence = 0.99\n",
    "st.t.interval(confidence, len(stockx)-1, loc=stockx['Shoe Size'].mean(), scale=st.sem(stockx['Shoe Size']))"
   ]
  },
  {
   "cell_type": "code",
   "execution_count": 14,
   "id": "f5fc4277",
   "metadata": {},
   "outputs": [
    {
     "data": {
      "text/plain": [
       "(9.32520127476251, 9.363161604904544)"
      ]
     },
     "execution_count": 14,
     "metadata": {},
     "output_type": "execute_result"
    }
   ],
   "source": [
    "confidence = 0.99\n",
    "st.t.interval(confidence, len(stockx)-1, loc=stockx['Shoe Size'].mean(), scale=st.sem(stockx['Shoe Size']))"
   ]
  },
  {
   "cell_type": "markdown",
   "id": "b6571e53",
   "metadata": {},
   "source": [
    "### 10% Dataset"
   ]
  },
  {
   "cell_type": "code",
   "execution_count": 17,
   "id": "bc930f7b",
   "metadata": {},
   "outputs": [],
   "source": [
    "# 10% Dataset\n",
    "ten_percent = len(stockx) * 0.1\n",
    "data = stockx.head(int(ten_percent))"
   ]
  },
  {
   "cell_type": "code",
   "execution_count": 33,
   "id": "0de5dc24",
   "metadata": {},
   "outputs": [
    {
     "data": {
      "text/plain": [
       "(534.4853096991403, 551.3636147630907)"
      ]
     },
     "execution_count": 33,
     "metadata": {},
     "output_type": "execute_result"
    }
   ],
   "source": [
    "confidence = 0.95\n",
    "st.t.interval(confidence, len(data) - 1, loc=data['Sale Price'].mean(), scale=st.sem(data['Sale Price']))"
   ]
  },
  {
   "cell_type": "code",
   "execution_count": 20,
   "id": "2123974f",
   "metadata": {},
   "outputs": [
    {
     "data": {
      "text/plain": [
       "(9.580977195742882, 9.66704681626312)"
      ]
     },
     "execution_count": 20,
     "metadata": {},
     "output_type": "execute_result"
    }
   ],
   "source": [
    "confidence = 0.95\n",
    "st.t.interval(confidence, len(data) - 1, loc=data['Shoe Size'].mean(), scale=st.sem(data['Shoe Size']))"
   ]
  },
  {
   "cell_type": "markdown",
   "id": "24fa6763",
   "metadata": {},
   "source": [
    "Ik zie dat er best wel grote verschillen onstaan:\n",
    "- Sale Price: (445.0478164813223, 448.2216920564343) --- (537.898657676093, 547.9502667861381)\n",
    "- Shoe Size: (9.329739419162214, 9.35862346050484) --- (9.580977195742882, 9.66704681626312)\n",
    "\n",
    "Als de dataset dus kleiner wordt zal het confidence interval groter worden."
   ]
  }
 ],
 "metadata": {
  "kernelspec": {
   "display_name": "Python 3 (ipykernel)",
   "language": "python",
   "name": "python3"
  },
  "language_info": {
   "codemirror_mode": {
    "name": "ipython",
    "version": 3
   },
   "file_extension": ".py",
   "mimetype": "text/x-python",
   "name": "python",
   "nbconvert_exporter": "python",
   "pygments_lexer": "ipython3",
   "version": "3.9.13"
  }
 },
 "nbformat": 4,
 "nbformat_minor": 5
}
